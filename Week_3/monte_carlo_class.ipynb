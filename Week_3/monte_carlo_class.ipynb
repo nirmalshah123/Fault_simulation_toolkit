{
 "cells": [
  {
   "cell_type": "code",
   "execution_count": 31,
   "metadata": {},
   "outputs": [],
   "source": [
    "import matplotlib.pyplot as plt\n",
    "from PySpice.Doc.ExampleTools import find_libraries\n",
    "from PySpice.Probe.Plot import plot\n",
    "from PySpice.Spice.Library import SpiceLibrary\n",
    "from PySpice.Spice.Netlist import Circuit\n",
    "from PySpice.Unit import *\n",
    "import numpy as np"
   ]
  },
  {
   "cell_type": "code",
   "execution_count": 32,
   "metadata": {},
   "outputs": [],
   "source": [
    "libraries_path = \"/home/neel/Sem_8/AE6102/Project/temp/\"\n",
    "spice_library = SpiceLibrary(libraries_path)"
   ]
  },
  {
   "cell_type": "code",
   "execution_count": 33,
   "metadata": {},
   "outputs": [
    {
     "data": {
      "text/plain": [
       "['nmos', 'pmos', 'nmos_F', 'pmos_F', 'nmos_S', 'pmos_S']"
      ]
     },
     "execution_count": 33,
     "metadata": {},
     "output_type": "execute_result"
    }
   ],
   "source": [
    "list(spice_library.models)"
   ]
  },
  {
   "cell_type": "code",
   "execution_count": 58,
   "metadata": {},
   "outputs": [
    {
     "name": "stdout",
     "output_type": "stream",
     "text": [
      ".title NMOS Transistor\n",
      ".include /home/neel/Sem_8/AE6102/Project/temp/130nm_bulk.lib\n",
      "Vgate_1 gatenode_1 0 0.8\n",
      "Vgate_2 gatenode_2 0 0.8\n",
      "R1 drain_1 R1_minus 20k\n",
      "R2 drain_2 R2_minus 20k\n",
      "V1 vdd 0 2.2V\n",
      "I1 source 0 106u\n",
      "M1 drain_1 gatenode_1 source 0 nmos l=1u w=1u\n",
      "M2 drain_2 gatenode_2 source 0 nmos l=1u w=1u\n",
      "VR1_minus vdd R1_minus 0\n",
      "VR2_minus vdd R2_minus 0\n",
      "\n"
     ]
    }
   ],
   "source": [
    "circuit = Circuit('NMOS Transistor')\n",
    "circuit.include(spice_library['nmos'])\n",
    "\n",
    "# Define the DC supply voltage value\n",
    "Vdd = 2.2\n",
    "\n",
    "# Instanciate circuit elements\n",
    "circuit.V('gate_1', 'gatenode_1', circuit.gnd, 0.8)\n",
    "circuit.V('gate_2', 'gatenode_2', circuit.gnd, 0.8)\n",
    "circuit.R(1, 'drain_1', 'vdd', \"20k\")\n",
    "circuit.R(2, 'drain_2', 'vdd', \"20k\")\n",
    "circuit.V(1, 'vdd', circuit.gnd, u_V(Vdd))\n",
    "circuit.I(1,'source', 0,'106u')\n",
    "# M <name> <drain node> <gate node> <source node> <bulk/substrate node>\n",
    "circuit.MOSFET(1, 'drain_1', 'gatenode_1', 'source', circuit.gnd, model='nmos', l = \"1u\", w=\"1u\")\n",
    "circuit.MOSFET(2, 'drain_2', 'gatenode_2', 'source', circuit.gnd, model='nmos', l = \"1u\", w=\"1u\")\n",
    "\n",
    "for r in (circuit.R1, circuit.R2):\n",
    "    r.minus.add_current_probe(circuit)\n",
    "print(circuit)"
   ]
  },
  {
   "cell_type": "code",
   "execution_count": 65,
   "metadata": {},
   "outputs": [],
   "source": [
    "async def ckt_gen(circuit,params):\n",
    "    # print(os.getpid())\n",
    "    for i in params:\n",
    "        i.resistance = params[i]\n",
    "    print(circuit)\n",
    "    simulator = circuit.simulator(\n",
    "        temperature=25, nominal_temperature=25)\n",
    "    analysis = simulator.operating_point()\n",
    "    return (float(analysis.nodes['2']))\n",
    "\n",
    "\n",
    "async def run(index, no_of_threads):\n",
    "    circuit = Circuit(\"Sims\")\n",
    "    circuit.R('1', 1, 2, \"1k\")\n",
    "    circuit.R('2', 2, 0, \"1k\")\n",
    "    circuit.V('1', 1, 0, 3.3)\n",
    "    params = {}\n",
    "    resistors = []\n",
    "    e = list(circuit.element_names)\n",
    "    for i in e:\n",
    "        if(i[0] == 'R'):\n",
    "            resistors.append(circuit[i])\n",
    "    tasks = []\n",
    "    for i in range(no_of_threads):\n",
    "        params[resistors[0]] = str(1+index+i)+\"k\"\n",
    "        params[resistors[1]] = \"1k\"\n",
    "        print(params)\n",
    "        tasks.append(asyncio.create_task(\n",
    "            ckt_gen(circuit = circuit,params = params)))\n",
    "    ans = await asyncio.gather(*tasks)\n",
    "    return (ans)\n",
    "\n",
    "\n",
    "def child(index, no_of_threads):\n",
    "    ans = asyncio.run(run(index, no_of_threads))\n",
    "    return (ans)"
   ]
  },
  {
   "cell_type": "code",
   "execution_count": 64,
   "metadata": {},
   "outputs": [
    {
     "data": {
      "text/plain": [
       "<__main__.monte_carlo_sims at 0x7f1a2b98f1c0>"
      ]
     },
     "execution_count": 64,
     "metadata": {},
     "output_type": "execute_result"
    }
   ],
   "source": [
    "class monte_carlo_sims():\n",
    "    def __init__(self, circuit, no_of_simulations=2, tol=10,path=\"/home/neel/Sem_8/AE6102/Project/temp/\"):\n",
    "        self.circuit = circuit\n",
    "        self.no_of_simulations = no_of_simulations\n",
    "        self.resistors = []\n",
    "        self.mosfet_nmos = []\n",
    "        self.mosfet_pmos = []\n",
    "        self.capacitors = []\n",
    "        self.libraries_nmos = []\n",
    "        self.libraries_pmos = []\n",
    "        self.cases = [] \n",
    "        self.result = np.array([])\n",
    "        self.path_to_library(path)\n",
    "        self.segregate()\n",
    "        self.create_sims(tol)   \n",
    "    \n",
    "\n",
    "    def path_to_library(self,path):\n",
    "        for i in list(SpiceLibrary(path).models):\n",
    "            if('pmos' in  i):\n",
    "                self.libraries_pmos.append(i)\n",
    "            else:\n",
    "                self.libraries_nmos.append(i)\n",
    "\n",
    "    def segregate(self):\n",
    "        for i in list(self.circuit.element_names):\n",
    "            if(i[0] == 'R'):\n",
    "                self.resistors.append(self.circuit[i])\n",
    "            elif(i[0] == 'M' and (circuit[i].model[0] == 'n')):\n",
    "                self.mosfet_nmos.append(self.circuit[i])\n",
    "            elif(i[0] == 'M' and (circuit[i].model[0] == 'p')):\n",
    "                self.mosfet_pmos.append(self.circuit[i])\n",
    "            elif(i[0] == 'C'):\n",
    "                self.capacitors.append(self.circuit[i])\n",
    "    \n",
    "    def create_sims(self, tol):\n",
    "        for i in range(self.no_of_simulations):\n",
    "            tasks = {}\n",
    "            model_nmos = self.libraries_nmos[np.random.randint(0,len(self.libraries_nmos))]\n",
    "            model_pmos = self.libraries_pmos[np.random.randint(0,len(self.libraries_pmos))]\n",
    "            for j in self.mosfet_nmos:\n",
    "                length = float(j.length[:-1]) + (np.random.rand()*tol/100)\n",
    "                width = float(j.width[:-1]) + (np.random.rand()*tol/100)\n",
    "                tasks[j] = [model_nmos, length, width]\n",
    "            for j in self.mosfet_pmos:\n",
    "                length = float(j.length[:-1]) + (np.random.rand()*tol/100)\n",
    "                width = float(j.width[:-1]) + (np.random.rand()*tol/100)\n",
    "                tasks[j] = [model_pmos, length, width]   \n",
    "            self.cases.append(tasks)\n",
    "\n",
    "\n",
    "    def solve(self):\n",
    "        no_of_cpu = (os. cpu_count())\n",
    "        pool = mp.Pool()\n",
    "        threads_per_core = int(self.no_of_simulations/no_of_cpu)\n",
    "        leftover_threads = self.no_of_simulations - (threads_per_core*no_of_cpu)\n",
    "\n",
    "        if (self.no_of_simulations < 12):\n",
    "            a = [pool.apply_async(child, args=(i, 1)) for i in range(no_sims)]\n",
    "            pool.close()\n",
    "            pool.join()\n",
    "        else:\n",
    "            index = np.arange(0, self.no_of_simulations, threads_per_core)\n",
    "            a = [pool.apply_async(child, args=(index[i], threads_per_core))\n",
    "                for i in range(no_of_cpu)]\n",
    "            pool.close()\n",
    "            pool.join()\n",
    "            if (leftover_threads != 0):\n",
    "                b = child(threads_per_core*no_of_cpu, leftover_threads)\n",
    "                self.result = np.append(result, b)\n",
    "        for i in a:\n",
    "            self.result = np.append(self.result, i.get())\n",
    "        self.result = self.result.flatten()\n",
    "        for i in self.result:\n",
    "            print(i)\n",
    "            plt.plot(i, '*')\n",
    "        plt.savefig('sims_result_process_asyncio.png')\n",
    "\n",
    "    def plot(self):\n",
    "        for i in self.result:\n",
    "            print(i)\n",
    "            plt.plot(i, '*')\n",
    "        plt.savefig('sims_result_process_asyncio.png')  \n",
    "monte_carlo_sims(circuit=circuit, no_of_simulations=2, tol=10)"
   ]
  },
  {
   "cell_type": "code",
   "execution_count": 8,
   "metadata": {},
   "outputs": [
    {
     "name": "stdout",
     "output_type": "stream",
     "text": [
      "[2.22044605e-16]\n"
     ]
    }
   ],
   "source": [
    "circuit.R1.resistance=\"20k\"\n",
    "simulator = circuit.simulator(temperature=25, nominal_temperature=25)\n",
    "analysis = simulator.operating_point()\n",
    "voltage_diff = np.array(analysis.nodes['drain_1']) - np.array(analysis.nodes['drain_2'])\n",
    "current_m1 = np.array(analysis.branches[\"vr1_minus\"])\n",
    "current_m2 = np.array(analysis.branches[\"vr2_minus\"])\n",
    "print(voltage_diff)"
   ]
  },
  {
   "cell_type": "code",
   "execution_count": 9,
   "metadata": {},
   "outputs": [
    {
     "data": {
      "image/png": "[encoded data removed]",
      "text/plain": [
       "<Figure size 640x480 with 1 Axes>"
      ]
     },
     "metadata": {},
     "output_type": "display_data"
    }
   ],
   "source": [
    "simulator = circuit.simulator(temperature=25, nominal_temperature=25)\n",
    "analysis = simulator.dc(Vgate_2=slice(0,Vdd,0.01))\n",
    "voltage_diff = np.array(analysis.nodes['gatenode_1']) - np.array(analysis.nodes['gatenode_2'])\n",
    "current_m1 = np.array(analysis.branches[\"vr1_minus\"])\n",
    "current_m2 = np.array(analysis.branches[\"vr2_minus\"])\n",
    "plt.plot(voltage_diff, current_m1)\n",
    "plt.plot(voltage_diff, current_m2)\n",
    "plt.grid()\n",
    "plt.show()"
   ]
  },
  {
   "cell_type": "code",
   "execution_count": 67,
   "metadata": {},
   "outputs": [
    {
     "name": "stdout",
     "output_type": "stream",
     "text": [
      ".title NMOS Transistor\n",
      ".include /home/neel/Sem_8/AE6102/Project/temp/130nm_bulk.lib\n",
      "Vgate_1 gatenode_1 0 0.8\n",
      "Vgate_2 gatenode_2 0 0.8\n",
      "R1 drain_1 R1_minus 20k\n",
      "R2 drain_2 R2_minus 20k\n",
      "V1 vdd 0 2.2V\n",
      "I1 source 0 106u\n",
      "M1 drain_1 gatenode_1 source 0 nmos l=1.4309441973512975 w=1.7848914775685398\n",
      "M2 drain_2 gatenode_2 source 0 nmos l=1.4201495216872277 w=1.6491205867213996\n",
      "VR1_minus vdd R1_minus 0\n",
      "VR2_minus vdd R2_minus 0\n",
      "\n",
      "[-0.00311173]\n"
     ]
    }
   ],
   "source": [
    "def ckt_gen(circuit, args):\n",
    "    for i in args:\n",
    "        i.model = args[i][0]\n",
    "        i.length = args[i][1]\n",
    "        i.width = args[i][2]\n",
    "    print(circuit)\n",
    "    simulator = circuit.simulator(temperature=25, nominal_temperature=25)\n",
    "    analysis = simulator.operating_point()\n",
    "    voltage_diff = np.array(analysis.nodes['drain_1']) - np.array(analysis.nodes['drain_2'])\n",
    "    current_m1 = np.array(analysis.branches[\"vr1_minus\"])\n",
    "    current_m2 = np.array(analysis.branches[\"vr2_minus\"])\n",
    "    print(voltage_diff)\n",
    "\n",
    "circuit = Circuit('NMOS Transistor')\n",
    "circuit.include(spice_library['nmos'])\n",
    "Vdd = 2.2\n",
    "circuit.V('gate_1', 'gatenode_1', circuit.gnd, 0.8)\n",
    "circuit.V('gate_2', 'gatenode_2', circuit.gnd, 0.8)\n",
    "circuit.R(1, 'drain_1', 'vdd', \"20k\")\n",
    "circuit.R(2, 'drain_2', 'vdd', \"20k\")\n",
    "circuit.V(1, 'vdd', circuit.gnd, u_V(Vdd))\n",
    "circuit.I(1,'source', 0,'106u')\n",
    "circuit.MOSFET(1, 'drain_1', 'gatenode_1', 'source', circuit.gnd, model='nmos', l = \"1u\", w=\"1u\")\n",
    "circuit.MOSFET(2, 'drain_2', 'gatenode_2', 'source', circuit.gnd, model='nmos', l = \"1u\", w=\"1u\")\n",
    "\n",
    "for r in (circuit.R1, circuit.R2):\n",
    "    r.minus.add_current_probe(circuit)\n",
    "\n",
    "tasks = {}\n",
    "mosfets = []\n",
    "e = list(circuit.element_names)\n",
    "for i in e:\n",
    "    if(i[0] == 'M'):\n",
    "        mosfets.append(circuit[i])\n",
    "for i in mosfets:\n",
    "    tasks[i] = ['nmos', 1 + np.random.rand(), 1 + np.random.rand()]\n",
    "ckt_gen(circuit,tasks)"
   ]
  }
 ],
 "metadata": {
  "kernelspec": {
   "display_name": "base",
   "language": "python",
   "name": "python3"
  },
  "language_info": {
   "codemirror_mode": {
    "name": "ipython",
    "version": 3
   },
   "file_extension": ".py",
   "mimetype": "text/x-python",
   "name": "python",
   "nbconvert_exporter": "python",
   "pygments_lexer": "ipython3",
   "version": "3.9.12"
  },
  "orig_nbformat": 4
 },
 "nbformat": 4,
 "nbformat_minor": 2
}
